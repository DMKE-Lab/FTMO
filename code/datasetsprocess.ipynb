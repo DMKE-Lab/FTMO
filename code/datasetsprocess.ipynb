{
 "cells": [
  {
   "cell_type": "code",
   "execution_count": 1,
   "metadata": {},
   "outputs": [],
   "source": [
    "import numpy as np\n",
    "import os\n",
    "import json\n",
    "import logging\n",
    "from collections import defaultdict\n",
    "from collections import deque\n"
   ]
  },
  {
   "cell_type": "code",
   "execution_count": 2,
   "metadata": {},
   "outputs": [],
   "source": [
    "all_rels = json.load(open('./all_rels.json'))"
   ]
  },
  {
   "cell_type": "code",
   "execution_count": 6,
   "metadata": {},
   "outputs": [
    {
     "name": "stdout",
     "output_type": "stream",
     "text": [
      "92\n"
     ]
    }
   ],
   "source": [
    "num_rel = 0\n",
    "for i in all_rels.keys():\n",
    "    if len(all_rels[i])>= 50 and len(all_rels[i])<= 500:\n",
    "        num_rel += 1\n",
    "print(num_rel)"
   ]
  },
  {
   "cell_type": "markdown",
   "metadata": {},
   "source": [
    "### 共有92个关系的元组数在50到500之间，划分数据集为  70:7:15"
   ]
  },
  {
   "cell_type": "code",
   "execution_count": 15,
   "metadata": {},
   "outputs": [],
   "source": [
    "used_task = defaultdict(list)\n",
    "train_task = defaultdict(list)\n",
    "dev_task = defaultdict(list)\n",
    "test_task = defaultdict(list)\n",
    "other_task = defaultdict(list)\n",
    "for i in all_rels.keys():\n",
    "    if len(all_rels[i])>= 50 and len(all_rels[i])<= 500:\n",
    "        used_task[i] = all_rels[i]\n",
    "    else:\n",
    "        other_task[i] = all_rels[i]"
   ]
  },
  {
   "cell_type": "code",
   "execution_count": 16,
   "metadata": {},
   "outputs": [
    {
     "name": "stdout",
     "output_type": "stream",
     "text": [
      "92\n"
     ]
    }
   ],
   "source": [
    "print(len(used_task))"
   ]
  },
  {
   "cell_type": "code",
   "execution_count": 17,
   "metadata": {},
   "outputs": [],
   "source": [
    "n = 0\n",
    "for i in used_task.keys():\n",
    "    n += 1\n",
    "    if n>0 and n<=70:\n",
    "        train_task[i] = used_task[i]\n",
    "    elif n>70 and n<=77:\n",
    "        dev_task[i] = used_task[i]\n",
    "    else:\n",
    "        test_task[i] = used_task[i]\n",
    "    "
   ]
  },
  {
   "cell_type": "code",
   "execution_count": 21,
   "metadata": {},
   "outputs": [
    {
     "name": "stdout",
     "output_type": "stream",
     "text": [
      "70 7 15 164\n"
     ]
    }
   ],
   "source": [
    "print(len(train_task), len(dev_task), len(test_task),len(other_task))"
   ]
  },
  {
   "cell_type": "markdown",
   "metadata": {},
   "source": [
    "### 保存划分完成的数据集"
   ]
  },
  {
   "cell_type": "code",
   "execution_count": 22,
   "metadata": {},
   "outputs": [],
   "source": [
    "json.dump(train_task, open( './train_tasks.json', 'w'))\n",
    "json.dump(dev_task, open( './dev_tasks.json', 'w'))\n",
    "json.dump(test_task, open( './test_tasks.json', 'w'))\n",
    "json.dump(other_task, open( './other_tasks.json', 'w'))"
   ]
  },
  {
   "cell_type": "code",
   "execution_count": null,
   "metadata": {},
   "outputs": [],
   "source": []
  }
 ],
 "metadata": {
  "kernelspec": {
   "display_name": "Python 3",
   "language": "python",
   "name": "python3"
  },
  "language_info": {
   "codemirror_mode": {
    "name": "ipython",
    "version": 3
   },
   "file_extension": ".py",
   "mimetype": "text/x-python",
   "name": "python",
   "nbconvert_exporter": "python",
   "pygments_lexer": "ipython3",
   "version": "3.7.6"
  }
 },
 "nbformat": 4,
 "nbformat_minor": 4
}
